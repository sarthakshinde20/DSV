{
 "cells": [
  {
   "cell_type": "code",
   "execution_count": null,
   "id": "1560c553",
   "metadata": {},
   "outputs": [],
   "source": [
    "import pandas as pd\n",
    "import numpy as np\n",
    "import matplotlib.pyplot as plt\n",
    "np.random.seed(4272018)\n",
    "\n",
    "\n",
    "plt.subplot()\n",
    "\n",
    "\n",
    "df=pd.DataFrame(np.random.randint(low=0, high=20, size=(5,2), dtype=int),columns=['commersial_Watched', 'Product Purchased'])\n",
    "df\n",
    "\n",
    "\n",
    "df.agg([\"mean\", \"std\"])\n",
    "\n",
    "\n",
    "df.var()\n",
    "\n",
    "\n",
    "df.cov()\n",
    "\n",
    "\n",
    "df.corr()\n",
    "\n",
    "\n",
    "plt.scatter(df['commersial_Watched'],df['Product Purchased'], color='blue');\n",
    "plt.xlabel('commersial_Watched'); \n",
    "plt.ylabel('Product Purchased')\n"
   ]
  }
 ],
 "metadata": {
  "kernelspec": {
   "display_name": "Python 3 (ipykernel)",
   "language": "python",
   "name": "python3"
  },
  "language_info": {
   "codemirror_mode": {
    "name": "ipython",
    "version": 3
   },
   "file_extension": ".py",
   "mimetype": "text/x-python",
   "name": "python",
   "nbconvert_exporter": "python",
   "pygments_lexer": "ipython3",
   "version": "3.11.4"
  }
 },
 "nbformat": 4,
 "nbformat_minor": 5
}
